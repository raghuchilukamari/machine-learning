{
 "cells": [
  {
   "cell_type": "code",
   "execution_count": 4,
   "id": "bdd76c3b",
   "metadata": {},
   "outputs": [],
   "source": [
    "import numpy as np\n",
    "import pandas as pd\n",
    "\n",
    "import matplotlib.pyplot as plt"
   ]
  },
  {
   "cell_type": "code",
   "execution_count": 81,
   "id": "acd27ef5",
   "metadata": {},
   "outputs": [],
   "source": [
    "success_rate = 0.95\n",
    "samples = 242485\n",
    "a = []\n",
    "for i in range(0, samples):\n",
    "    \n",
    "    # check how many times a random number is < success rate\n",
    "    random_nums = np.random.rand(50,1)\n",
    "    random_nums_lt_success = np.where(random_nums < 0.95, 1, 0)\n",
    "    a.append(np.sum(random_nums_lt_success))\n",
    "    "
   ]
  },
  {
   "cell_type": "code",
   "execution_count": 82,
   "id": "4d379024",
   "metadata": {},
   "outputs": [
    {
     "data": {
      "text/plain": [
       "(array([0.00000000e+00, 0.00000000e+00, 0.00000000e+00, 0.00000000e+00,\n",
       "        0.00000000e+00, 0.00000000e+00, 0.00000000e+00, 0.00000000e+00,\n",
       "        0.00000000e+00, 0.00000000e+00, 0.00000000e+00, 0.00000000e+00,\n",
       "        0.00000000e+00, 0.00000000e+00, 0.00000000e+00, 0.00000000e+00,\n",
       "        0.00000000e+00, 0.00000000e+00, 0.00000000e+00, 0.00000000e+00,\n",
       "        0.00000000e+00, 0.00000000e+00, 0.00000000e+00, 0.00000000e+00,\n",
       "        0.00000000e+00, 0.00000000e+00, 0.00000000e+00, 0.00000000e+00,\n",
       "        0.00000000e+00, 0.00000000e+00, 0.00000000e+00, 0.00000000e+00,\n",
       "        0.00000000e+00, 0.00000000e+00, 0.00000000e+00, 0.00000000e+00,\n",
       "        0.00000000e+00, 4.20812901e-06, 1.26243870e-05, 1.00995096e-04,\n",
       "        5.34432384e-04, 2.28080592e-03, 8.73607583e-03, 2.72055541e-02,\n",
       "        6.70186626e-02, 1.39322735e-01, 2.25736665e-01, 2.66269363e-01,\n",
       "        2.04704436e-01, 7.84816061e-02]),\n",
       " array([ 1.  ,  1.98,  2.96,  3.94,  4.92,  5.9 ,  6.88,  7.86,  8.84,\n",
       "         9.82, 10.8 , 11.78, 12.76, 13.74, 14.72, 15.7 , 16.68, 17.66,\n",
       "        18.64, 19.62, 20.6 , 21.58, 22.56, 23.54, 24.52, 25.5 , 26.48,\n",
       "        27.46, 28.44, 29.42, 30.4 , 31.38, 32.36, 33.34, 34.32, 35.3 ,\n",
       "        36.28, 37.26, 38.24, 39.22, 40.2 , 41.18, 42.16, 43.14, 44.12,\n",
       "        45.1 , 46.08, 47.06, 48.04, 49.02, 50.  ]),\n",
       " <BarContainer object of 50 artists>)"
      ]
     },
     "execution_count": 82,
     "metadata": {},
     "output_type": "execute_result"
    },
    {
     "data": {
      "image/png": "[encoded data removed]",
      "text/plain": [
       "<Figure size 432x288 with 1 Axes>"
      ]
     },
     "metadata": {
      "needs_background": "light"
     },
     "output_type": "display_data"
    }
   ],
   "source": [
    "plt.hist(a,bins=50, range=[1,50], density=True, rwidth=0.8)"
   ]
  },
  {
   "cell_type": "code",
   "execution_count": 26,
   "id": "81fde5f9",
   "metadata": {},
   "outputs": [
    {
     "data": {
      "text/plain": [
       "0.07664804008495371"
      ]
     },
     "execution_count": 26,
     "metadata": {},
     "output_type": "execute_result"
    }
   ],
   "source": [
    "np.sum(np.where(np.array(a)==50,1,0))/samples"
   ]
  },
  {
   "cell_type": "code",
   "execution_count": null,
   "id": "bbb5f18e",
   "metadata": {},
   "outputs": [],
   "source": []
  }
 ],
 "metadata": {
  "kernelspec": {
   "display_name": "Python 3 (ipykernel)",
   "language": "python",
   "name": "python3"
  },
  "language_info": {
   "codemirror_mode": {
    "name": "ipython",
    "version": 3
   },
   "file_extension": ".py",
   "mimetype": "text/x-python",
   "name": "python",
   "nbconvert_exporter": "python",
   "pygments_lexer": "ipython3",
   "version": "3.9.13"
  }
 },
 "nbformat": 4,
 "nbformat_minor": 5
}
