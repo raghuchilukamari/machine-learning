{
 "cells": [
  {
   "cell_type": "code",
   "execution_count": 2,
   "id": "bd37e923",
   "metadata": {},
   "outputs": [],
   "source": [
    "from sklearn.datasets import load_digits, load_iris\n",
    "import numpy as np"
   ]
  },
  {
   "cell_type": "code",
   "execution_count": 3,
   "id": "99f6ded5",
   "metadata": {},
   "outputs": [],
   "source": [
    "iris = load_iris()\n",
    "iris_data = iris.data\n",
    "iris_targets = iris.target"
   ]
  },
  {
   "cell_type": "code",
   "execution_count": 4,
   "id": "68061503",
   "metadata": {},
   "outputs": [],
   "source": [
    "data = iris_data[:,:2]\n",
    "targets = (iris_targets != 0) * 1"
   ]
  },
  {
   "cell_type": "code",
   "execution_count": 309,
   "id": "bb92d9cf",
   "metadata": {},
   "outputs": [
    {
     "data": {
      "text/plain": [
       "(150, 2)"
      ]
     },
     "execution_count": 309,
     "metadata": {},
     "output_type": "execute_result"
    }
   ],
   "source": [
    "data.shape"
   ]
  },
  {
   "cell_type": "code",
   "execution_count": 310,
   "id": "9e3d4c2e",
   "metadata": {},
   "outputs": [],
   "source": [
    "input_nodes = 2\n",
    "hidden_nodes = 2\n",
    "output_nodes = 1\n",
    "\n",
    "weights_i_h = np.random.rand(input_nodes,hidden_nodes)\n",
    "weights_h_o = np.random.rand(hidden_nodes, output_nodes)"
   ]
  },
  {
   "cell_type": "code",
   "execution_count": 258,
   "id": "e8715b6f",
   "metadata": {},
   "outputs": [
    {
     "data": {
      "text/plain": [
       "array([[0.80626896, 0.03171838, 0.04686951],\n",
       "       [0.71924688, 0.20100928, 0.37247972]])"
      ]
     },
     "execution_count": 258,
     "metadata": {},
     "output_type": "execute_result"
    }
   ],
   "source": [
    "weights_h_o"
   ]
  },
  {
   "cell_type": "code",
   "execution_count": 313,
   "id": "1b3dc1d3",
   "metadata": {},
   "outputs": [],
   "source": [
    "def sigmoid(x):\n",
    "    return 1/(1+np.exp(-x))"
   ]
  },
  {
   "cell_type": "code",
   "execution_count": 314,
   "id": "e1a06544",
   "metadata": {},
   "outputs": [],
   "source": [
    "def feed_forward(x):\n",
    "    hidden_output = sigmoid(np.dot(x,weights_i_h))\n",
    "    final_output = np.dot(hidden_output, weights_h_o)\n",
    "    \n",
    "    return hidden_output, final_output"
   ]
  },
  {
   "cell_type": "code",
   "execution_count": 315,
   "id": "0fe7ef9b",
   "metadata": {},
   "outputs": [],
   "source": [
    "def back_prop(hidden_output, final_output, y, x, weights_h_o, weights_i_h):\n",
    "    # error at final node\n",
    "    error = y-final_output \n",
    "    # print(error)\n",
    "    # hidden layer contribution to error\n",
    "    hidden_error = np.dot(weights_h_o,error)\n",
    "    \n",
    "    weights_h_o += error * 0.01 * hidden_output[:, None] # y-y^ * X\n",
    "     \n",
    "    weights_i_h += hidden_error * hidden_output * (1-hidden_output) * 0.01 * x[:, None]\n",
    "    "
   ]
  },
  {
   "cell_type": "code",
   "execution_count": 316,
   "id": "f7f90f3b",
   "metadata": {},
   "outputs": [],
   "source": [
    "for i in range(100):\n",
    "    for x,y in zip(data, targets):\n",
    "\n",
    "        # feed forward\n",
    "        hidden_output, final_output = feed_forward(x)\n",
    "        back_prop(hidden_output, final_output,y, x, weights_h_o, weights_i_h)"
   ]
  },
  {
   "cell_type": "code",
   "execution_count": 317,
   "id": "310809f9",
   "metadata": {},
   "outputs": [
    {
     "name": "stdout",
     "output_type": "stream",
     "text": [
      "[0.88949465]\n",
      "[0.88330713]\n",
      "[0.88019678]\n",
      "[0.87741597]\n",
      "[0.8880767]\n",
      "[0.8958913]\n",
      "[0.87909451]\n",
      "[0.88723277]\n",
      "[0.87135522]\n",
      "[0.88384113]\n",
      "[0.89526381]\n",
      "[0.88331584]\n",
      "[0.88122086]\n",
      "[0.86954117]\n",
      "[0.90185026]\n",
      "[0.90146697]\n",
      "[0.8958913]\n",
      "[0.88949465]\n",
      "[0.8999881]\n",
      "[0.89063506]\n",
      "[0.89422481]\n",
      "[0.89026992]\n",
      "[0.88010091]\n",
      "[0.88865329]\n",
      "[0.88331584]\n",
      "[0.88531584]\n",
      "[0.88723277]\n",
      "[0.89125729]\n",
      "[0.89086326]\n",
      "[0.88019678]\n",
      "[0.88177913]\n",
      "[0.89422481]\n",
      "[0.89331999]\n",
      "[0.89822448]\n",
      "[0.88384113]\n",
      "[0.88631548]\n",
      "[0.89615469]\n",
      "[0.88619327]\n",
      "[0.87205173]\n",
      "[0.88908272]\n",
      "[0.88766339]\n",
      "[0.86909695]\n",
      "[0.87335536]\n",
      "[0.88766339]\n",
      "[0.89063506]\n",
      "[0.88122086]\n",
      "[0.89063506]\n",
      "[0.87799976]\n",
      "[0.89366291]\n",
      "[0.88678383]\n",
      "[0.91295896]\n",
      "[0.90708102]\n",
      "[0.91187157]\n",
      "[0.8908436]\n",
      "[0.90710505]\n",
      "[0.89660297]\n",
      "[0.90621289]\n",
      "[0.87954329]\n",
      "[0.90846212]\n",
      "[0.88757775]\n",
      "[0.87868875]\n",
      "[0.90028263]\n",
      "[0.89843722]\n",
      "[0.90261867]\n",
      "[0.89546192]\n",
      "[0.9099759]\n",
      "[0.8958694]\n",
      "[0.89770193]\n",
      "[0.90127318]\n",
      "[0.89363573]\n",
      "[0.90094919]\n",
      "[0.90227946]\n",
      "[0.90377442]\n",
      "[0.90227946]\n",
      "[0.90626742]\n",
      "[0.90872021]\n",
      "[0.91023669]\n",
      "[0.90973978]\n",
      "[0.90130004]\n",
      "[0.89573161]\n",
      "[0.89140485]\n",
      "[0.89140485]\n",
      "[0.89770193]\n",
      "[0.90057364]\n",
      "[0.89262187]\n",
      "[0.90286215]\n",
      "[0.9099759]\n",
      "[0.90301418]\n",
      "[0.8958694]\n",
      "[0.89194027]\n",
      "[0.8924513]\n",
      "[0.90294325]\n",
      "[0.8972762]\n",
      "[0.88101321]\n",
      "[0.89459038]\n",
      "[0.89739946]\n",
      "[0.89701004]\n",
      "[0.90388486]\n",
      "[0.8844498]\n",
      "[0.89660297]\n",
      "[0.90621289]\n",
      "[0.89770193]\n",
      "[0.9134192]\n",
      "[0.90510051]\n",
      "[0.90765762]\n",
      "[0.9172288]\n",
      "[0.88024517]\n",
      "[0.91485339]\n",
      "[0.90839053]\n",
      "[0.91526472]\n",
      "[0.90816453]\n",
      "[0.90566274]\n",
      "[0.91071793]\n",
      "[0.89526503]\n",
      "[0.89810875]\n",
      "[0.90708102]\n",
      "[0.90765762]\n",
      "[0.91893698]\n",
      "[0.91723551]\n",
      "[0.89843722]\n",
      "[0.91207803]\n",
      "[0.89503595]\n",
      "[0.91758149]\n",
      "[0.90446739]\n",
      "[0.91041936]\n",
      "[0.91461404]\n",
      "[0.90356083]\n",
      "[0.90294325]\n",
      "[0.9059718]\n",
      "[0.91424675]\n",
      "[0.91543631]\n",
      "[0.9201021]\n",
      "[0.9059718]\n",
      "[0.904791]\n",
      "[0.90155361]\n",
      "[0.91789856]\n",
      "[0.90646305]\n",
      "[0.90682133]\n",
      "[0.90163978]\n",
      "[0.91187157]\n",
      "[0.9099759]\n",
      "[0.91187157]\n",
      "[0.89770193]\n",
      "[0.91115961]\n",
      "[0.91041936]\n",
      "[0.90973978]\n",
      "[0.90377442]\n",
      "[0.90765762]\n",
      "[0.90531102]\n",
      "[0.90028263]\n"
     ]
    }
   ],
   "source": [
    "for x,y in zip(data, targets):\n",
    "    hidden_output, final_output = feed_forward(x)\n",
    "    print(final_output)"
   ]
  },
  {
   "cell_type": "code",
   "execution_count": 244,
   "id": "2cf9f2ca",
   "metadata": {},
   "outputs": [
    {
     "data": {
      "text/plain": [
       "array([[0.36474612],\n",
       "       [0.5455291 ]])"
      ]
     },
     "execution_count": 244,
     "metadata": {},
     "output_type": "execute_result"
    }
   ],
   "source": [
    "weights_h_o"
   ]
  },
  {
   "cell_type": "code",
   "execution_count": 62,
   "id": "50c06967",
   "metadata": {},
   "outputs": [
    {
     "ename": "ValueError",
     "evalue": "shapes (150,2) and (4,) not aligned: 2 (dim 1) != 4 (dim 0)",
     "output_type": "error",
     "traceback": [
      "\u001b[0;31m---------------------------------------------------------------------------\u001b[0m",
      "\u001b[0;31mValueError\u001b[0m                                Traceback (most recent call last)",
      "Input \u001b[0;32mIn [62]\u001b[0m, in \u001b[0;36m<cell line: 1>\u001b[0;34m()\u001b[0m\n\u001b[0;32m----> 1\u001b[0m hidden_activations \u001b[38;5;241m=\u001b[39m sigmoid(\u001b[43mnp\u001b[49m\u001b[38;5;241;43m.\u001b[39;49m\u001b[43mdot\u001b[49m\u001b[43m(\u001b[49m\u001b[43mX\u001b[49m\u001b[43m,\u001b[49m\u001b[43mweights_i_h\u001b[49m\u001b[43m)\u001b[49m)\n",
      "File \u001b[0;32m<__array_function__ internals>:5\u001b[0m, in \u001b[0;36mdot\u001b[0;34m(*args, **kwargs)\u001b[0m\n",
      "\u001b[0;31mValueError\u001b[0m: shapes (150,2) and (4,) not aligned: 2 (dim 1) != 4 (dim 0)"
     ]
    }
   ],
   "source": [
    "hidden_activations = sigmoid(np.dot(X,weights_i_h))"
   ]
  },
  {
   "cell_type": "code",
   "execution_count": 96,
   "id": "788b53f2",
   "metadata": {},
   "outputs": [],
   "source": [
    "weights_input_to_hidden = np.random.normal(0.0, input_nodes**-0.5, \n",
    "                                       ( hidden_nodes, output_nodes))"
   ]
  },
  {
   "cell_type": "code",
   "execution_count": 97,
   "id": "98ce3911",
   "metadata": {},
   "outputs": [
    {
     "data": {
      "text/plain": [
       "array([[-0.44424801],\n",
       "       [-0.39118625]])"
      ]
     },
     "execution_count": 97,
     "metadata": {},
     "output_type": "execute_result"
    }
   ],
   "source": [
    "weights_input_to_hidden"
   ]
  },
  {
   "cell_type": "code",
   "execution_count": 274,
   "id": "f82abebf",
   "metadata": {},
   "outputs": [],
   "source": [
    "def MSE(y, Y):\n",
    "    return np.mean((y-Y)**2)"
   ]
  },
  {
   "cell_type": "code",
   "execution_count": 311,
   "id": "8e04b96f",
   "metadata": {},
   "outputs": [
    {
     "name": "stdout",
     "output_type": "stream",
     "text": [
      "Progress: 99.0% ... Training loss: 0.245"
     ]
    }
   ],
   "source": [
    "from my_answers import NeuralNetwork\n",
    "import sys\n",
    "\n",
    "N_i = data.shape[1]\n",
    "network = NeuralNetwork(N_i, hidden_nodes, output_nodes, 0.01)\n",
    "\n",
    "losses = {'train':[], 'validation':[]}\n",
    "for ii in range(1,100):\n",
    "    # Go through a random batch of 128 records from the training data set\n",
    "\n",
    "                             \n",
    "    network.train(data, targets)\n",
    "    \n",
    "    # Printing out the training progress\n",
    "    train_loss = MSE(network.run(data).T, targets)\n",
    "    # val_loss = MSE(network.run(val_features).T, val_targets['cnt'].values)\n",
    "    sys.stdout.write(\"\\rProgress: {:2.1f}\".format(100 * ii/float(100)) \\\n",
    "                     + \"% ... Training loss: \" + str(train_loss)[:5])\n",
    "#     sys.stdout.flush()\n",
    "    \n",
    "    #losses['train'].append(train_loss)\n",
    "    #losses['validation'].append(val_loss)"
   ]
  },
  {
   "cell_type": "code",
   "execution_count": 312,
   "id": "7c812419",
   "metadata": {},
   "outputs": [
    {
     "data": {
      "text/plain": [
       "array([[0.82201952],\n",
       "       [0.81926346],\n",
       "       [0.81865563],\n",
       "       [0.81751162],\n",
       "       [0.82176971],\n",
       "       [0.82421668],\n",
       "       [0.81861657],\n",
       "       [0.82121369],\n",
       "       [0.81487117],\n",
       "       [0.81963911],\n",
       "       [0.82381082],\n",
       "       [0.8200205 ],\n",
       "       [0.81859688],\n",
       "       [0.81434873],\n",
       "       [0.82563093],\n",
       "       [0.82593499],\n",
       "       [0.82421668],\n",
       "       [0.82201952],\n",
       "       [0.82501414],\n",
       "       [0.82275702],\n",
       "       [0.82310224],\n",
       "       [0.82252593],\n",
       "       [0.81924995],\n",
       "       [0.82144832],\n",
       "       [0.8200205 ],\n",
       "       [0.81988085],\n",
       "       [0.82121369],\n",
       "       [0.8224992 ],\n",
       "       [0.82223124],\n",
       "       [0.81865563],\n",
       "       [0.81898508],\n",
       "       [0.82310224],\n",
       "       [0.82380692],\n",
       "       [0.82507372],\n",
       "       [0.81963911],\n",
       "       [0.82058682],\n",
       "       [0.82373265],\n",
       "       [0.82121572],\n",
       "       [0.81533976],\n",
       "       [0.82174247],\n",
       "       [0.82150007],\n",
       "       [0.81244887],\n",
       "       [0.81619789],\n",
       "       [0.82150007],\n",
       "       [0.82275702],\n",
       "       [0.81859688],\n",
       "       [0.82275702],\n",
       "       [0.81790211],\n",
       "       [0.82341629],\n",
       "       [0.82090961],\n",
       "       [0.82665025],\n",
       "       [0.82558091],\n",
       "       [0.82631944],\n",
       "       [0.81962831],\n",
       "       [0.82488969],\n",
       "       [0.82250583],\n",
       "       [0.82556827],\n",
       "       [0.81648528],\n",
       "       [0.82535075],\n",
       "       [0.81983609],\n",
       "       [0.81481353],\n",
       "       [0.82380386],\n",
       "       [0.82138851],\n",
       "       [0.82412631],\n",
       "       [0.82244675],\n",
       "       [0.82597257],\n",
       "       [0.8227617 ],\n",
       "       [0.82254297],\n",
       "       [0.82212065],\n",
       "       [0.82098543],\n",
       "       [0.82432421],\n",
       "       [0.82384507],\n",
       "       [0.82351262],\n",
       "       [0.82384507],\n",
       "       [0.82490476],\n",
       "       [0.82557342],\n",
       "       [0.82552776],\n",
       "       [0.82576996],\n",
       "       [0.82383273],\n",
       "       [0.82180077],\n",
       "       [0.82009008],\n",
       "       [0.82009008],\n",
       "       [0.82254297],\n",
       "       [0.82323285],\n",
       "       [0.8219366 ],\n",
       "       [0.8250563 ],\n",
       "       [0.82597257],\n",
       "       [0.82282971],\n",
       "       [0.8227617 ],\n",
       "       [0.82052606],\n",
       "       [0.82093758],\n",
       "       [0.82439147],\n",
       "       [0.82219236],\n",
       "       [0.81664742],\n",
       "       [0.82175862],\n",
       "       [0.82313298],\n",
       "       [0.82282861],\n",
       "       [0.82440195],\n",
       "       [0.81835123],\n",
       "       [0.82250583],\n",
       "       [0.82556827],\n",
       "       [0.82254297],\n",
       "       [0.82645308],\n",
       "       [0.82466101],\n",
       "       [0.82536495],\n",
       "       [0.82712329],\n",
       "       [0.81701761],\n",
       "       [0.82656855],\n",
       "       [0.82455647],\n",
       "       [0.82748361],\n",
       "       [0.82578719],\n",
       "       [0.82438271],\n",
       "       [0.82595544],\n",
       "       [0.82141626],\n",
       "       [0.8228737 ],\n",
       "       [0.82558091],\n",
       "       [0.82536495],\n",
       "       [0.82816824],\n",
       "       [0.82657767],\n",
       "       [0.82138851],\n",
       "       [0.82649735],\n",
       "       [0.82211275],\n",
       "       [0.82692734],\n",
       "       [0.82412043],\n",
       "       [0.82634343],\n",
       "       [0.82693125],\n",
       "       [0.8241303 ],\n",
       "       [0.82439147],\n",
       "       [0.82465141],\n",
       "       [0.82660158],\n",
       "       [0.82653023],\n",
       "       [0.82831674],\n",
       "       [0.82465141],\n",
       "       [0.82439867],\n",
       "       [0.82323061],\n",
       "       [0.82723792],\n",
       "       [0.82576335],\n",
       "       [0.82536873],\n",
       "       [0.82410724],\n",
       "       [0.82631944],\n",
       "       [0.82597257],\n",
       "       [0.82631944],\n",
       "       [0.82254297],\n",
       "       [0.82633535],\n",
       "       [0.82634343],\n",
       "       [0.82576996],\n",
       "       [0.82351262],\n",
       "       [0.82536495],\n",
       "       [0.82554341],\n",
       "       [0.82380386]])"
      ]
     },
     "execution_count": 312,
     "metadata": {},
     "output_type": "execute_result"
    }
   ],
   "source": [
    "network.run(data)"
   ]
  },
  {
   "cell_type": "code",
   "execution_count": null,
   "id": "8973c070",
   "metadata": {},
   "outputs": [],
   "source": []
  }
 ],
 "metadata": {
  "kernelspec": {
   "display_name": "Python 3 (ipykernel)",
   "language": "python",
   "name": "python3"
  },
  "language_info": {
   "codemirror_mode": {
    "name": "ipython",
    "version": 3
   },
   "file_extension": ".py",
   "mimetype": "text/x-python",
   "name": "python",
   "nbconvert_exporter": "python",
   "pygments_lexer": "ipython3",
   "version": "3.9.13"
  }
 },
 "nbformat": 4,
 "nbformat_minor": 5
}
