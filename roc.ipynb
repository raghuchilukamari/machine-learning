{
 "cells": [
  {
   "cell_type": "code",
   "execution_count": 73,
   "id": "45e5b7e5",
   "metadata": {},
   "outputs": [],
   "source": [
    "import numpy as np\n",
    "import matplotlib.pyplot as plt\n",
    "from itertools import cycle\n",
    "\n",
    "from sklearn import svm, datasets\n",
    "from sklearn.metrics import roc_curve, auc\n",
    "from sklearn.model_selection import train_test_split\n",
    "from sklearn.preprocessing import label_binarize\n",
    "from sklearn.multiclass import OneVsRestClassifier\n",
    "from scipy import interp\n",
    "from sklearn.metrics import roc_auc_score"
   ]
  },
  {
   "cell_type": "code",
   "execution_count": 74,
   "id": "85ff58d1",
   "metadata": {},
   "outputs": [
    {
     "data": {
      "text/plain": [
       "(150, 4)"
      ]
     },
     "execution_count": 74,
     "metadata": {},
     "output_type": "execute_result"
    }
   ],
   "source": [
    "iris = datasets.load_iris()\n",
    "X = iris.data\n",
    "y = iris.target\n",
    "X.shape"
   ]
  },
  {
   "cell_type": "code",
   "execution_count": 75,
   "id": "5a32d846",
   "metadata": {},
   "outputs": [
    {
     "name": "stdout",
     "output_type": "stream",
     "text": [
      "3\n"
     ]
    }
   ],
   "source": [
    "# Binarize the output\n",
    "y = label_binarize(y, classes=[0, 1, 2])\n",
    "n_classes = y.shape[1]\n",
    "print(n_classes)"
   ]
  },
  {
   "cell_type": "code",
   "execution_count": 76,
   "id": "1a75d6ae",
   "metadata": {},
   "outputs": [],
   "source": [
    "# Add noisy features to make the problem harder\n",
    "random_state = np.random.RandomState(0)\n",
    "n_samples, n_features = X.shape\n",
    "X = np.c_[X, random_state.randn(n_samples, 200 * n_features)]"
   ]
  },
  {
   "cell_type": "code",
   "execution_count": 77,
   "id": "4f4b4094",
   "metadata": {},
   "outputs": [
    {
     "data": {
      "text/plain": [
       "(75, 804)"
      ]
     },
     "execution_count": 77,
     "metadata": {},
     "output_type": "execute_result"
    }
   ],
   "source": [
    "# shuffle and split training and test sets\n",
    "X_train, X_test, y_train, y_test = train_test_split(X, y, test_size=0.5, random_state=0)\n",
    "X_train.shape"
   ]
  },
  {
   "cell_type": "code",
   "execution_count": 78,
   "id": "d9522c58",
   "metadata": {},
   "outputs": [],
   "source": [
    "# Learn to predict each class against the other\n",
    "classifier = OneVsRestClassifier(\n",
    "    svm.SVC(kernel=\"linear\", probability=True, random_state=random_state)\n",
    ")\n",
    "y_score = classifier.fit(X_train, y_train).decision_function(X_test)"
   ]
  },
  {
   "cell_type": "code",
   "execution_count": 79,
   "id": "bb885af4",
   "metadata": {},
   "outputs": [],
   "source": [
    "# Compute ROC curve and ROC area for each class\n",
    "fpr = dict()\n",
    "tpr = dict()\n",
    "roc_auc = dict()"
   ]
  },
  {
   "cell_type": "code",
   "execution_count": 80,
   "id": "e2af6825",
   "metadata": {},
   "outputs": [
    {
     "data": {
      "text/plain": [
       "array([-0.36482547, -0.63144366, -0.80263073, -0.12395478, -0.27913475,\n",
       "       -0.34730509, -0.24506467,  0.18264917, -0.24059516, -0.25745136,\n",
       "       -0.30270719, -0.7030665 , -0.64062258, -0.46354017, -0.2653183 ,\n",
       "       -0.56706353, -0.04226738, -0.13784913, -0.99673302, -0.91349462,\n",
       "       -0.06436533, -0.45906496, -0.80086123, -0.70985659, -0.20735021,\n",
       "       -0.36698232, -0.1159895 , -0.73611276, -0.37676258, -0.71078341,\n",
       "       -0.41408367, -0.78971942, -0.47617037, -0.46507392, -0.71470221,\n",
       "       -0.31125083, -0.51388968, -0.0074193 , -0.65773489, -0.60049718,\n",
       "       -0.21918849, -1.0107504 , -0.60044961, -0.7579771 , -0.81552421,\n",
       "       -0.84787471, -0.2863326 , -0.43228203, -0.15060119, -0.62804881,\n",
       "       -0.29572764, -0.34638653, -0.66917752, -0.62483455, -0.11456775,\n",
       "       -0.34855346, -0.13384038, -0.52487765, -0.23331763, -0.85448531,\n",
       "       -0.48759987, -0.83392076, -0.81597935, -0.70826295, -0.39894364,\n",
       "        0.09194626, -0.56572577, -0.46484965, -0.56912947, -0.5611945 ,\n",
       "       -0.63705856, -0.08425378, -0.8879586 , -0.80507517, -0.29016769])"
      ]
     },
     "execution_count": 80,
     "metadata": {},
     "output_type": "execute_result"
    }
   ],
   "source": [
    "y_score[:,1]"
   ]
  },
  {
   "cell_type": "code",
   "execution_count": 84,
   "id": "f96b293e",
   "metadata": {},
   "outputs": [
    {
     "data": {
      "text/plain": [
       "0.18264917133489167"
      ]
     },
     "execution_count": 84,
     "metadata": {},
     "output_type": "execute_result"
    }
   ],
   "source": [
    "np.amax(y_score[:,1])"
   ]
  },
  {
   "cell_type": "code",
   "execution_count": 81,
   "id": "6a17014c",
   "metadata": {},
   "outputs": [
    {
     "name": "stdout",
     "output_type": "stream",
     "text": [
      "i is :  0\n",
      "(array([0.        , 0.        , 0.        , 0.01851852, 0.01851852,\n",
      "       0.03703704, 0.03703704, 0.05555556, 0.05555556, 0.07407407,\n",
      "       0.07407407, 0.09259259, 0.09259259, 0.12962963, 0.12962963,\n",
      "       0.14814815, 0.14814815, 0.2037037 , 0.2037037 , 0.27777778,\n",
      "       0.27777778, 1.        ]), array([0.        , 0.04761905, 0.14285714, 0.14285714, 0.19047619,\n",
      "       0.19047619, 0.33333333, 0.33333333, 0.38095238, 0.38095238,\n",
      "       0.61904762, 0.61904762, 0.66666667, 0.66666667, 0.76190476,\n",
      "       0.76190476, 0.9047619 , 0.9047619 , 0.95238095, 0.95238095,\n",
      "       1.        , 1.        ]), array([ 1.37991331,  0.37991331,  0.24966175,  0.19599366,  0.18869727,\n",
      "        0.17642852,  0.12163662,  0.12127427,  0.11801481,  0.06910059,\n",
      "       -0.01116192, -0.02392675, -0.03259341, -0.04953425, -0.06196433,\n",
      "       -0.07856729, -0.11107635, -0.1906155 , -0.19299299, -0.23036784,\n",
      "       -0.25045747, -1.11907501]))\n",
      "i is :  1\n",
      "(array([0.        , 0.        , 0.        , 0.02222222, 0.02222222,\n",
      "       0.11111111, 0.11111111, 0.17777778, 0.17777778, 0.2       ,\n",
      "       0.2       , 0.24444444, 0.24444444, 0.26666667, 0.26666667,\n",
      "       0.37777778, 0.37777778, 0.42222222, 0.42222222, 0.48888889,\n",
      "       0.48888889, 0.55555556, 0.55555556, 0.62222222, 0.62222222,\n",
      "       0.64444444, 0.64444444, 0.66666667, 0.66666667, 0.73333333,\n",
      "       0.73333333, 0.75555556, 0.75555556, 0.88888889, 0.88888889,\n",
      "       1.        ]), array([0.        , 0.03333333, 0.13333333, 0.13333333, 0.16666667,\n",
      "       0.16666667, 0.2       , 0.2       , 0.26666667, 0.26666667,\n",
      "       0.33333333, 0.33333333, 0.4       , 0.4       , 0.43333333,\n",
      "       0.43333333, 0.5       , 0.5       , 0.56666667, 0.56666667,\n",
      "       0.6       , 0.6       , 0.63333333, 0.63333333, 0.7       ,\n",
      "       0.7       , 0.73333333, 0.73333333, 0.9       , 0.9       ,\n",
      "       0.93333333, 0.93333333, 0.96666667, 0.96666667, 1.        ,\n",
      "       1.        ]), array([ 1.18264917,  0.18264917, -0.04226738, -0.06436533, -0.08425378,\n",
      "       -0.13384038, -0.13784913, -0.21918849, -0.24059516, -0.24506467,\n",
      "       -0.2653183 , -0.2863326 , -0.29572764, -0.30270719, -0.31125083,\n",
      "       -0.36698232, -0.39894364, -0.43228203, -0.46354017, -0.47617037,\n",
      "       -0.48759987, -0.5611945 , -0.56572577, -0.60044961, -0.62483455,\n",
      "       -0.62804881, -0.63144366, -0.63705856, -0.70826295, -0.71470221,\n",
      "       -0.73611276, -0.7579771 , -0.78971942, -0.83392076, -0.84787471,\n",
      "       -1.0107504 ]))\n",
      "i is :  2\n",
      "(array([0.        , 0.        , 0.        , 0.01960784, 0.01960784,\n",
      "       0.07843137, 0.07843137, 0.09803922, 0.09803922, 0.11764706,\n",
      "       0.11764706, 0.1372549 , 0.1372549 , 0.15686275, 0.15686275,\n",
      "       0.17647059, 0.17647059, 0.31372549, 0.31372549, 0.33333333,\n",
      "       0.33333333, 0.35294118, 0.35294118, 0.41176471, 0.41176471,\n",
      "       0.45098039, 0.45098039, 0.47058824, 0.47058824, 0.50980392,\n",
      "       0.50980392, 0.56862745, 0.56862745, 1.        ]), array([0.        , 0.04166667, 0.125     , 0.125     , 0.25      ,\n",
      "       0.25      , 0.29166667, 0.29166667, 0.33333333, 0.33333333,\n",
      "       0.41666667, 0.41666667, 0.5       , 0.5       , 0.54166667,\n",
      "       0.54166667, 0.58333333, 0.58333333, 0.70833333, 0.70833333,\n",
      "       0.75      , 0.75      , 0.79166667, 0.79166667, 0.83333333,\n",
      "       0.83333333, 0.875     , 0.875     , 0.91666667, 0.91666667,\n",
      "       0.95833333, 0.95833333, 1.        , 1.        ]), array([ 1.58423201,  0.58423201,  0.21326435,  0.12967625,  0.04838688,\n",
      "        0.02530178,  0.02199789,  0.02046723,  0.00856393,  0.00767521,\n",
      "       -0.01186087, -0.05831557, -0.07455313, -0.10238744, -0.10551977,\n",
      "       -0.11058011, -0.12051204, -0.2039252 , -0.21662877, -0.21682409,\n",
      "       -0.22759345, -0.2292247 , -0.23302033, -0.27802284, -0.27995197,\n",
      "       -0.29713077, -0.30065047, -0.30413406, -0.30613086, -0.32055874,\n",
      "       -0.32086131, -0.35901924, -0.3755452 , -0.86493066]))\n"
     ]
    }
   ],
   "source": [
    "for i in range(n_classes):\n",
    "    print('i is : ', i)\n",
    "    print(roc_curve(y_test[:, i], y_score[:, i]))\n",
    "    fpr[i], tpr[i], _ = roc_curve(y_test[:, i], y_score[:, i])\n",
    "    #print(tpr[i].shape)\n",
    "    roc_auc[i] = auc(fpr[i], tpr[i])"
   ]
  },
  {
   "cell_type": "code",
   "execution_count": null,
   "id": "e13c697e",
   "metadata": {},
   "outputs": [],
   "source": []
  },
  {
   "cell_type": "code",
   "execution_count": null,
   "id": "252b78cd",
   "metadata": {},
   "outputs": [],
   "source": []
  },
  {
   "cell_type": "code",
   "execution_count": null,
   "id": "13631566",
   "metadata": {},
   "outputs": [],
   "source": []
  }
 ],
 "metadata": {
  "kernelspec": {
   "display_name": "Python 3 (ipykernel)",
   "language": "python",
   "name": "python3"
  },
  "language_info": {
   "codemirror_mode": {
    "name": "ipython",
    "version": 3
   },
   "file_extension": ".py",
   "mimetype": "text/x-python",
   "name": "python",
   "nbconvert_exporter": "python",
   "pygments_lexer": "ipython3",
   "version": "3.9.7"
  }
 },
 "nbformat": 4,
 "nbformat_minor": 5
}
